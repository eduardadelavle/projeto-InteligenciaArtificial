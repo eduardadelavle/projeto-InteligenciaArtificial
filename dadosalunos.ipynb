{
  "nbformat": 4,
  "nbformat_minor": 0,
  "metadata": {
    "colab": {
      "name": "dadosalunos.ipynb",
      "provenance": [],
      "collapsed_sections": [],
      "authorship_tag": "ABX9TyNV861TDr3kL87WN1ApmfUG",
      "include_colab_link": true
    },
    "kernelspec": {
      "name": "python3",
      "display_name": "Python 3"
    }
  },
  "cells": [
    {
      "cell_type": "markdown",
      "metadata": {
        "id": "view-in-github",
        "colab_type": "text"
      },
      "source": [
        "<a href=\"https://colab.research.google.com/github/eduardadelavle/projeto-InteligenciaArtificial/blob/master/dadosalunos.ipynb\" target=\"_parent\"><img src=\"https://colab.research.google.com/assets/colab-badge.svg\" alt=\"Open In Colab\"/></a>"
      ]
    },
    {
      "cell_type": "markdown",
      "metadata": {
        "id": "fpcs6YfGgoUd",
        "colab_type": "text"
      },
      "source": [
        "# **Atributos da Base**\n",
        "\n",
        "\n",
        "1. Notas\n",
        "2. Faltas\n",
        "3. Aprovados\n",
        "\n",
        "*  Primeira coluna: notas 0 a 10.\n",
        "*  Segunda coluna: mais de 18 faltas reprovado.\n",
        "*  Terceira coluna: se está ou não aprovado, 0 ou 1.\n"
      ]
    },
    {
      "cell_type": "code",
      "metadata": {
        "id": "hEp_SKos4_rc",
        "colab_type": "code",
        "colab": {}
      },
      "source": [
        "import pandas as pd"
      ],
      "execution_count": 56,
      "outputs": []
    },
    {
      "cell_type": "code",
      "metadata": {
        "id": "UXhUmeJVJEp5",
        "colab_type": "code",
        "colab": {
          "base_uri": "https://localhost:8080/",
          "height": 419
        },
        "outputId": "cb9a6aab-e7bf-45a7-b102-18c7b5149dc8"
      },
      "source": [
        "link = 'https://raw.githubusercontent.com/eduardadelavle/projeto-InteligenciaArtificial/master/dados_alunos.csv'\n",
        "df = pd.read_csv(link, sep=';', encoding='ISO-8859-1', names=[\"notas\",\"faltas\", \"aprovados\"])\n",
        "df"
      ],
      "execution_count": 57,
      "outputs": [
        {
          "output_type": "execute_result",
          "data": {
            "text/html": [
              "<div>\n",
              "<style scoped>\n",
              "    .dataframe tbody tr th:only-of-type {\n",
              "        vertical-align: middle;\n",
              "    }\n",
              "\n",
              "    .dataframe tbody tr th {\n",
              "        vertical-align: top;\n",
              "    }\n",
              "\n",
              "    .dataframe thead th {\n",
              "        text-align: right;\n",
              "    }\n",
              "</style>\n",
              "<table border=\"1\" class=\"dataframe\">\n",
              "  <thead>\n",
              "    <tr style=\"text-align: right;\">\n",
              "      <th></th>\n",
              "      <th>notas</th>\n",
              "      <th>faltas</th>\n",
              "      <th>aprovados</th>\n",
              "    </tr>\n",
              "  </thead>\n",
              "  <tbody>\n",
              "    <tr>\n",
              "      <th>0</th>\n",
              "      <td>6.26</td>\n",
              "      <td>44.0</td>\n",
              "      <td>0.0</td>\n",
              "    </tr>\n",
              "    <tr>\n",
              "      <th>1</th>\n",
              "      <td>0.56</td>\n",
              "      <td>37.0</td>\n",
              "      <td>0.0</td>\n",
              "    </tr>\n",
              "    <tr>\n",
              "      <th>2</th>\n",
              "      <td>9.12</td>\n",
              "      <td>47.0</td>\n",
              "      <td>0.0</td>\n",
              "    </tr>\n",
              "    <tr>\n",
              "      <th>3</th>\n",
              "      <td>3.58</td>\n",
              "      <td>9.0</td>\n",
              "      <td>0.0</td>\n",
              "    </tr>\n",
              "    <tr>\n",
              "      <th>4</th>\n",
              "      <td>5.01</td>\n",
              "      <td>19.0</td>\n",
              "      <td>0.0</td>\n",
              "    </tr>\n",
              "    <tr>\n",
              "      <th>...</th>\n",
              "      <td>...</td>\n",
              "      <td>...</td>\n",
              "      <td>...</td>\n",
              "    </tr>\n",
              "    <tr>\n",
              "      <th>4995</th>\n",
              "      <td>8.62</td>\n",
              "      <td>7.0</td>\n",
              "      <td>1.0</td>\n",
              "    </tr>\n",
              "    <tr>\n",
              "      <th>4996</th>\n",
              "      <td>3.90</td>\n",
              "      <td>43.0</td>\n",
              "      <td>0.0</td>\n",
              "    </tr>\n",
              "    <tr>\n",
              "      <th>4997</th>\n",
              "      <td>4.52</td>\n",
              "      <td>16.0</td>\n",
              "      <td>0.0</td>\n",
              "    </tr>\n",
              "    <tr>\n",
              "      <th>4998</th>\n",
              "      <td>8.69</td>\n",
              "      <td>42.0</td>\n",
              "      <td>0.0</td>\n",
              "    </tr>\n",
              "    <tr>\n",
              "      <th>4999</th>\n",
              "      <td>9.47</td>\n",
              "      <td>4.0</td>\n",
              "      <td>1.0</td>\n",
              "    </tr>\n",
              "  </tbody>\n",
              "</table>\n",
              "<p>5000 rows × 3 columns</p>\n",
              "</div>"
            ],
            "text/plain": [
              "      notas  faltas  aprovados\n",
              "0      6.26    44.0        0.0\n",
              "1      0.56    37.0        0.0\n",
              "2      9.12    47.0        0.0\n",
              "3      3.58     9.0        0.0\n",
              "4      5.01    19.0        0.0\n",
              "...     ...     ...        ...\n",
              "4995   8.62     7.0        1.0\n",
              "4996   3.90    43.0        0.0\n",
              "4997   4.52    16.0        0.0\n",
              "4998   8.69    42.0        0.0\n",
              "4999   9.47     4.0        1.0\n",
              "\n",
              "[5000 rows x 3 columns]"
            ]
          },
          "metadata": {
            "tags": []
          },
          "execution_count": 57
        }
      ]
    },
    {
      "cell_type": "code",
      "metadata": {
        "id": "WcbyvQiZKZZJ",
        "colab_type": "code",
        "colab": {
          "base_uri": "https://localhost:8080/",
          "height": 187
        },
        "outputId": "5f6f1748-5d3e-4fa1-df54-5d079f5a29da"
      },
      "source": [
        "df.info()"
      ],
      "execution_count": 58,
      "outputs": [
        {
          "output_type": "stream",
          "text": [
            "<class 'pandas.core.frame.DataFrame'>\n",
            "RangeIndex: 5000 entries, 0 to 4999\n",
            "Data columns (total 3 columns):\n",
            " #   Column     Non-Null Count  Dtype  \n",
            "---  ------     --------------  -----  \n",
            " 0   notas      5000 non-null   float64\n",
            " 1   faltas     5000 non-null   float64\n",
            " 2   aprovados  5000 non-null   float64\n",
            "dtypes: float64(3)\n",
            "memory usage: 117.3 KB\n"
          ],
          "name": "stdout"
        }
      ]
    },
    {
      "cell_type": "code",
      "metadata": {
        "id": "sCzClgMvKbKh",
        "colab_type": "code",
        "colab": {
          "base_uri": "https://localhost:8080/",
          "height": 85
        },
        "outputId": "99dcab29-368c-4d1d-f7f7-220e9305a632"
      },
      "source": [
        "# verificando dados ausentes - verificando as 3 colunas\n",
        "#não há dados ausentes\n",
        "df.isnull().sum().sort_values(ascending= False)[:3]"
      ],
      "execution_count": 59,
      "outputs": [
        {
          "output_type": "execute_result",
          "data": {
            "text/plain": [
              "aprovados    0\n",
              "faltas       0\n",
              "notas        0\n",
              "dtype: int64"
            ]
          },
          "metadata": {
            "tags": []
          },
          "execution_count": 59
        }
      ]
    },
    {
      "cell_type": "markdown",
      "metadata": {
        "id": "0tG5-OiSjiQv",
        "colab_type": "text"
      },
      "source": [
        "# **Base de Treino e de Teste**"
      ]
    },
    {
      "cell_type": "code",
      "metadata": {
        "id": "R4DSdyVcKbUN",
        "colab_type": "code",
        "colab": {
          "base_uri": "https://localhost:8080/",
          "height": 221
        },
        "outputId": "da294210-44a3-447e-d107-84694e9c8916"
      },
      "source": [
        "#atributos : entradas e saidas\n",
        "entradas = df[[\"notas\", \"faltas\"]]\n",
        "saidas = df[\"aprovados\"]\n",
        "saidas"
      ],
      "execution_count": 60,
      "outputs": [
        {
          "output_type": "execute_result",
          "data": {
            "text/plain": [
              "0       0.0\n",
              "1       0.0\n",
              "2       0.0\n",
              "3       0.0\n",
              "4       0.0\n",
              "       ... \n",
              "4995    1.0\n",
              "4996    0.0\n",
              "4997    0.0\n",
              "4998    0.0\n",
              "4999    1.0\n",
              "Name: aprovados, Length: 5000, dtype: float64"
            ]
          },
          "metadata": {
            "tags": []
          },
          "execution_count": 60
        }
      ]
    },
    {
      "cell_type": "code",
      "metadata": {
        "id": "La6k8YdWKgsH",
        "colab_type": "code",
        "colab": {}
      },
      "source": [
        "#30% da base para teste\n",
        "from sklearn.model_selection import train_test_split\n",
        "\n",
        "# divide a base em bases: de treino e de teste\n",
        "x_treino, x_teste, y_treino, y_teste = train_test_split(entradas, saidas, test_size=0.3)"
      ],
      "execution_count": 61,
      "outputs": []
    },
    {
      "cell_type": "markdown",
      "metadata": {
        "id": "nNkNMKyDjqMr",
        "colab_type": "text"
      },
      "source": [
        "# **Treinamento**"
      ]
    },
    {
      "cell_type": "code",
      "metadata": {
        "id": "o6vCcy9hKgw-",
        "colab_type": "code",
        "colab": {
          "base_uri": "https://localhost:8080/",
          "height": 1000
        },
        "outputId": "d226fefa-21d3-43ea-a9dd-c692a99192e1"
      },
      "source": [
        "# importa a biblioteca\n",
        "from sklearn.neural_network import MLPClassifier\n",
        "\n",
        "# cria um objeto de uma RNA MLP para classificação\n",
        "mlp = MLPClassifier(\n",
        "    verbose=True, # mostra os erros\n",
        "    hidden_layer_sizes=(8, 4), # 2 camadas ocultas com 8 e 4 neurônios.\n",
        "    max_iter=500, # máximo de iterações\n",
        "    tol=0.00001, # limiar de erro\n",
        "    activation='tanh', # função de ativação tangente hiperbólica \n",
        "    learning_rate_init=0.001, # taxa de aprendizagem\n",
        "    solver='adam' # método para o ajuste de pesos\n",
        ")\n",
        "# executa o treinamento para as entradas e saídas\n",
        "mlp.fit(x_treino, y_treino)"
      ],
      "execution_count": 62,
      "outputs": [
        {
          "output_type": "stream",
          "text": [
            "Iteration 1, loss = 0.29092719\n",
            "Iteration 2, loss = 0.26711243\n",
            "Iteration 3, loss = 0.24543857\n",
            "Iteration 4, loss = 0.22780838\n",
            "Iteration 5, loss = 0.21328294\n",
            "Iteration 6, loss = 0.20122466\n",
            "Iteration 7, loss = 0.19047002\n",
            "Iteration 8, loss = 0.18089402\n",
            "Iteration 9, loss = 0.17231224\n",
            "Iteration 10, loss = 0.16466135\n",
            "Iteration 11, loss = 0.15795385\n",
            "Iteration 12, loss = 0.15171392\n",
            "Iteration 13, loss = 0.14583303\n",
            "Iteration 14, loss = 0.14111022\n",
            "Iteration 15, loss = 0.13677352\n",
            "Iteration 16, loss = 0.13303938\n",
            "Iteration 17, loss = 0.12881771\n",
            "Iteration 18, loss = 0.12533371\n",
            "Iteration 19, loss = 0.12217336\n",
            "Iteration 20, loss = 0.11907226\n",
            "Iteration 21, loss = 0.11653557\n",
            "Iteration 22, loss = 0.11399530\n",
            "Iteration 23, loss = 0.11074813\n",
            "Iteration 24, loss = 0.10818924\n",
            "Iteration 25, loss = 0.10585157\n",
            "Iteration 26, loss = 0.10424716\n",
            "Iteration 27, loss = 0.10299220\n",
            "Iteration 28, loss = 0.09985181\n",
            "Iteration 29, loss = 0.09935177\n",
            "Iteration 30, loss = 0.09689009\n",
            "Iteration 31, loss = 0.09552046\n",
            "Iteration 32, loss = 0.09444478\n",
            "Iteration 33, loss = 0.09335041\n",
            "Iteration 34, loss = 0.09166792\n",
            "Iteration 35, loss = 0.09093657\n",
            "Iteration 36, loss = 0.08964499\n",
            "Iteration 37, loss = 0.08873351\n",
            "Iteration 38, loss = 0.08789305\n",
            "Iteration 39, loss = 0.08658069\n",
            "Iteration 40, loss = 0.08623152\n",
            "Iteration 41, loss = 0.08499331\n",
            "Iteration 42, loss = 0.08399939\n",
            "Iteration 43, loss = 0.08322720\n",
            "Iteration 44, loss = 0.08245090\n",
            "Iteration 45, loss = 0.08162193\n",
            "Iteration 46, loss = 0.08097532\n",
            "Iteration 47, loss = 0.08035252\n",
            "Iteration 48, loss = 0.08026668\n",
            "Iteration 49, loss = 0.07918379\n",
            "Iteration 50, loss = 0.07878398\n",
            "Iteration 51, loss = 0.07751556\n",
            "Iteration 52, loss = 0.07699508\n",
            "Iteration 53, loss = 0.07670563\n",
            "Iteration 54, loss = 0.07589152\n",
            "Iteration 55, loss = 0.07529219\n",
            "Iteration 56, loss = 0.07463351\n",
            "Iteration 57, loss = 0.07412227\n",
            "Iteration 58, loss = 0.07368277\n",
            "Iteration 59, loss = 0.07319488\n",
            "Iteration 60, loss = 0.07274309\n",
            "Iteration 61, loss = 0.07207506\n",
            "Iteration 62, loss = 0.07169694\n",
            "Iteration 63, loss = 0.07175680\n",
            "Iteration 64, loss = 0.07102699\n",
            "Iteration 65, loss = 0.07052906\n",
            "Iteration 66, loss = 0.07119509\n",
            "Iteration 67, loss = 0.07007795\n",
            "Iteration 68, loss = 0.06934735\n",
            "Iteration 69, loss = 0.06897790\n",
            "Iteration 70, loss = 0.06843610\n",
            "Iteration 71, loss = 0.06777690\n",
            "Iteration 72, loss = 0.06761089\n",
            "Iteration 73, loss = 0.06710777\n",
            "Iteration 74, loss = 0.06695622\n",
            "Iteration 75, loss = 0.06628333\n",
            "Iteration 76, loss = 0.06617250\n",
            "Iteration 77, loss = 0.06534116\n",
            "Iteration 78, loss = 0.06542046\n",
            "Iteration 79, loss = 0.06494101\n",
            "Iteration 80, loss = 0.06413338\n",
            "Iteration 81, loss = 0.06404585\n",
            "Iteration 82, loss = 0.06378686\n",
            "Iteration 83, loss = 0.06357478\n",
            "Iteration 84, loss = 0.06331649\n",
            "Iteration 85, loss = 0.06298627\n",
            "Iteration 86, loss = 0.06277992\n",
            "Iteration 87, loss = 0.06210365\n",
            "Iteration 88, loss = 0.06196373\n",
            "Iteration 89, loss = 0.06172450\n",
            "Iteration 90, loss = 0.06145739\n",
            "Iteration 91, loss = 0.06135324\n",
            "Iteration 92, loss = 0.06150049\n",
            "Iteration 93, loss = 0.06056361\n",
            "Iteration 94, loss = 0.06091686\n",
            "Iteration 95, loss = 0.06025617\n",
            "Iteration 96, loss = 0.06003962\n",
            "Iteration 97, loss = 0.05939595\n",
            "Iteration 98, loss = 0.05931048\n",
            "Iteration 99, loss = 0.05914273\n",
            "Iteration 100, loss = 0.05890535\n",
            "Iteration 101, loss = 0.05888131\n",
            "Iteration 102, loss = 0.05821507\n",
            "Iteration 103, loss = 0.05839497\n",
            "Iteration 104, loss = 0.05804188\n",
            "Iteration 105, loss = 0.05827662\n",
            "Iteration 106, loss = 0.05755570\n",
            "Iteration 107, loss = 0.05718041\n",
            "Iteration 108, loss = 0.05701216\n",
            "Iteration 109, loss = 0.05698192\n",
            "Iteration 110, loss = 0.05728955\n",
            "Iteration 111, loss = 0.05748749\n",
            "Iteration 112, loss = 0.05624645\n",
            "Iteration 113, loss = 0.05613922\n",
            "Iteration 114, loss = 0.05591472\n",
            "Iteration 115, loss = 0.05562243\n",
            "Iteration 116, loss = 0.05611608\n",
            "Iteration 117, loss = 0.05543033\n",
            "Iteration 118, loss = 0.05519508\n",
            "Iteration 119, loss = 0.05513640\n",
            "Iteration 120, loss = 0.05500238\n",
            "Iteration 121, loss = 0.05480388\n",
            "Iteration 122, loss = 0.05471453\n",
            "Iteration 123, loss = 0.05486709\n",
            "Iteration 124, loss = 0.05420256\n",
            "Iteration 125, loss = 0.05532599\n",
            "Iteration 126, loss = 0.05422173\n",
            "Iteration 127, loss = 0.05369694\n",
            "Iteration 128, loss = 0.05357216\n",
            "Iteration 129, loss = 0.05350849\n",
            "Iteration 130, loss = 0.05333950\n",
            "Iteration 131, loss = 0.05304385\n",
            "Iteration 132, loss = 0.05326634\n",
            "Iteration 133, loss = 0.05238751\n",
            "Iteration 134, loss = 0.05259706\n",
            "Iteration 135, loss = 0.05258896\n",
            "Iteration 136, loss = 0.05243678\n",
            "Iteration 137, loss = 0.05212413\n",
            "Iteration 138, loss = 0.05155014\n",
            "Iteration 139, loss = 0.05175457\n",
            "Iteration 140, loss = 0.05184096\n",
            "Iteration 141, loss = 0.05212721\n",
            "Iteration 142, loss = 0.05136196\n",
            "Iteration 143, loss = 0.05120687\n",
            "Iteration 144, loss = 0.05107736\n",
            "Iteration 145, loss = 0.05090038\n",
            "Iteration 146, loss = 0.05170347\n",
            "Iteration 147, loss = 0.05107194\n",
            "Iteration 148, loss = 0.05117503\n",
            "Iteration 149, loss = 0.05022778\n",
            "Iteration 150, loss = 0.05046702\n",
            "Iteration 151, loss = 0.05123144\n",
            "Iteration 152, loss = 0.04999833\n",
            "Iteration 153, loss = 0.05049108\n",
            "Iteration 154, loss = 0.04937283\n",
            "Iteration 155, loss = 0.04931419\n",
            "Iteration 156, loss = 0.04930538\n",
            "Iteration 157, loss = 0.04902485\n",
            "Iteration 158, loss = 0.04878312\n",
            "Iteration 159, loss = 0.04881628\n",
            "Iteration 160, loss = 0.04863912\n",
            "Iteration 161, loss = 0.04831362\n",
            "Iteration 162, loss = 0.04842303\n",
            "Iteration 163, loss = 0.04855218\n",
            "Iteration 164, loss = 0.04800100\n",
            "Iteration 165, loss = 0.04801582\n",
            "Iteration 166, loss = 0.04791478\n",
            "Iteration 167, loss = 0.04808670\n",
            "Iteration 168, loss = 0.04781893\n",
            "Iteration 169, loss = 0.04743086\n",
            "Iteration 170, loss = 0.04706766\n",
            "Iteration 171, loss = 0.04717126\n",
            "Iteration 172, loss = 0.04756224\n",
            "Iteration 173, loss = 0.04697427\n",
            "Iteration 174, loss = 0.04678649\n",
            "Iteration 175, loss = 0.04668307\n",
            "Iteration 176, loss = 0.04726877\n",
            "Iteration 177, loss = 0.04675473\n",
            "Iteration 178, loss = 0.04646827\n",
            "Iteration 179, loss = 0.04606471\n",
            "Iteration 180, loss = 0.04635338\n",
            "Iteration 181, loss = 0.04708361\n",
            "Iteration 182, loss = 0.04648497\n",
            "Iteration 183, loss = 0.04604136\n",
            "Iteration 184, loss = 0.04568953\n",
            "Iteration 185, loss = 0.04540401\n",
            "Iteration 186, loss = 0.04497469\n",
            "Iteration 187, loss = 0.04498403\n",
            "Iteration 188, loss = 0.04479880\n",
            "Iteration 189, loss = 0.04455137\n",
            "Iteration 190, loss = 0.04505730\n",
            "Iteration 191, loss = 0.04488777\n",
            "Iteration 192, loss = 0.04458852\n",
            "Iteration 193, loss = 0.04487194\n",
            "Iteration 194, loss = 0.04461532\n",
            "Iteration 195, loss = 0.04419473\n",
            "Iteration 196, loss = 0.04397502\n",
            "Iteration 197, loss = 0.04386658\n",
            "Iteration 198, loss = 0.04382474\n",
            "Iteration 199, loss = 0.04388985\n",
            "Iteration 200, loss = 0.04397405\n",
            "Iteration 201, loss = 0.04331380\n",
            "Iteration 202, loss = 0.04341528\n",
            "Iteration 203, loss = 0.04459443\n",
            "Iteration 204, loss = 0.04372492\n",
            "Iteration 205, loss = 0.04263199\n",
            "Iteration 206, loss = 0.04264941\n",
            "Iteration 207, loss = 0.04256930\n",
            "Iteration 208, loss = 0.04252497\n",
            "Iteration 209, loss = 0.04221583\n",
            "Iteration 210, loss = 0.04253444\n",
            "Iteration 211, loss = 0.04222005\n",
            "Iteration 212, loss = 0.04246746\n",
            "Iteration 213, loss = 0.04190018\n",
            "Iteration 214, loss = 0.04158487\n",
            "Iteration 215, loss = 0.04146792\n",
            "Iteration 216, loss = 0.04135211\n",
            "Iteration 217, loss = 0.04106936\n",
            "Iteration 218, loss = 0.04107971\n",
            "Iteration 219, loss = 0.04077907\n",
            "Iteration 220, loss = 0.04067159\n",
            "Iteration 221, loss = 0.04095657\n",
            "Iteration 222, loss = 0.04091344\n",
            "Iteration 223, loss = 0.04065120\n",
            "Iteration 224, loss = 0.04060992\n",
            "Iteration 225, loss = 0.04067940\n",
            "Iteration 226, loss = 0.04017646\n",
            "Iteration 227, loss = 0.04109155\n",
            "Iteration 228, loss = 0.04065970\n",
            "Iteration 229, loss = 0.04012640\n",
            "Iteration 230, loss = 0.03973936\n",
            "Iteration 231, loss = 0.03947217\n",
            "Iteration 232, loss = 0.04047090\n",
            "Iteration 233, loss = 0.04037124\n",
            "Iteration 234, loss = 0.04005186\n",
            "Iteration 235, loss = 0.04030149\n",
            "Iteration 236, loss = 0.03887629\n",
            "Iteration 237, loss = 0.03866488\n",
            "Iteration 238, loss = 0.03856099\n",
            "Iteration 239, loss = 0.03889645\n",
            "Iteration 240, loss = 0.03867002\n",
            "Iteration 241, loss = 0.04164942\n",
            "Iteration 242, loss = 0.03824734\n",
            "Iteration 243, loss = 0.03810596\n",
            "Iteration 244, loss = 0.03816673\n",
            "Iteration 245, loss = 0.03788853\n",
            "Iteration 246, loss = 0.03791039\n",
            "Iteration 247, loss = 0.03858212\n",
            "Iteration 248, loss = 0.03822700\n",
            "Iteration 249, loss = 0.03864660\n",
            "Iteration 250, loss = 0.03708355\n",
            "Iteration 251, loss = 0.03713623\n",
            "Iteration 252, loss = 0.03684961\n",
            "Iteration 253, loss = 0.03656521\n",
            "Iteration 254, loss = 0.03756700\n",
            "Iteration 255, loss = 0.03758928\n",
            "Iteration 256, loss = 0.03643447\n",
            "Iteration 257, loss = 0.03651181\n",
            "Iteration 258, loss = 0.03592986\n",
            "Iteration 259, loss = 0.03596374\n",
            "Iteration 260, loss = 0.03588559\n",
            "Iteration 261, loss = 0.03580689\n",
            "Iteration 262, loss = 0.03586343\n",
            "Iteration 263, loss = 0.03591458\n",
            "Iteration 264, loss = 0.03560249\n",
            "Iteration 265, loss = 0.03506192\n",
            "Iteration 266, loss = 0.03613746\n",
            "Iteration 267, loss = 0.03588261\n",
            "Iteration 268, loss = 0.03510096\n",
            "Iteration 269, loss = 0.03482623\n",
            "Iteration 270, loss = 0.03444848\n",
            "Iteration 271, loss = 0.03438762\n",
            "Iteration 272, loss = 0.03408647\n",
            "Iteration 273, loss = 0.03438776\n",
            "Iteration 274, loss = 0.03467325\n",
            "Iteration 275, loss = 0.03472423\n",
            "Iteration 276, loss = 0.03463274\n",
            "Iteration 277, loss = 0.03396528\n",
            "Iteration 278, loss = 0.03356429\n",
            "Iteration 279, loss = 0.03502498\n",
            "Iteration 280, loss = 0.03332348\n",
            "Iteration 281, loss = 0.03411044\n",
            "Iteration 282, loss = 0.03316376\n",
            "Iteration 283, loss = 0.03457384\n",
            "Iteration 284, loss = 0.03339037\n",
            "Iteration 285, loss = 0.03334802\n",
            "Iteration 286, loss = 0.03291063\n",
            "Iteration 287, loss = 0.03297013\n",
            "Iteration 288, loss = 0.03246538\n",
            "Iteration 289, loss = 0.03242075\n",
            "Iteration 290, loss = 0.03215902\n",
            "Iteration 291, loss = 0.03198011\n",
            "Iteration 292, loss = 0.03248312\n",
            "Iteration 293, loss = 0.03178246\n",
            "Iteration 294, loss = 0.03176511\n",
            "Iteration 295, loss = 0.03131318\n",
            "Iteration 296, loss = 0.03198950\n",
            "Iteration 297, loss = 0.03135852\n",
            "Iteration 298, loss = 0.03120312\n",
            "Iteration 299, loss = 0.03166534\n",
            "Iteration 300, loss = 0.03055445\n",
            "Iteration 301, loss = 0.03123949\n",
            "Iteration 302, loss = 0.03112405\n",
            "Iteration 303, loss = 0.03180078\n",
            "Iteration 304, loss = 0.03116797\n",
            "Iteration 305, loss = 0.03042510\n",
            "Iteration 306, loss = 0.03041643\n",
            "Iteration 307, loss = 0.03030069\n",
            "Iteration 308, loss = 0.03007426\n",
            "Iteration 309, loss = 0.02964314\n",
            "Iteration 310, loss = 0.02969571\n",
            "Iteration 311, loss = 0.02955429\n",
            "Iteration 312, loss = 0.03001243\n",
            "Iteration 313, loss = 0.02922992\n",
            "Iteration 314, loss = 0.03082883\n",
            "Iteration 315, loss = 0.03070025\n",
            "Iteration 316, loss = 0.02961474\n",
            "Iteration 317, loss = 0.02906050\n",
            "Iteration 318, loss = 0.03083839\n",
            "Iteration 319, loss = 0.02992938\n",
            "Iteration 320, loss = 0.02895969\n",
            "Iteration 321, loss = 0.02863401\n",
            "Iteration 322, loss = 0.02977706\n",
            "Iteration 323, loss = 0.02897660\n",
            "Iteration 324, loss = 0.02889472\n",
            "Iteration 325, loss = 0.02821147\n",
            "Iteration 326, loss = 0.02828809\n",
            "Iteration 327, loss = 0.02806241\n",
            "Iteration 328, loss = 0.02824127\n",
            "Iteration 329, loss = 0.02778850\n",
            "Iteration 330, loss = 0.02747839\n",
            "Iteration 331, loss = 0.02737405\n",
            "Iteration 332, loss = 0.02754601\n",
            "Iteration 333, loss = 0.02735218\n",
            "Iteration 334, loss = 0.02817878\n",
            "Iteration 335, loss = 0.02761510\n",
            "Iteration 336, loss = 0.02782294\n",
            "Iteration 337, loss = 0.02738913\n",
            "Iteration 338, loss = 0.02819738\n",
            "Iteration 339, loss = 0.02688797\n",
            "Iteration 340, loss = 0.02671481\n",
            "Iteration 341, loss = 0.02592193\n",
            "Iteration 342, loss = 0.02939476\n",
            "Iteration 343, loss = 0.02619024\n",
            "Iteration 344, loss = 0.02640074\n",
            "Iteration 345, loss = 0.02610821\n",
            "Iteration 346, loss = 0.02608775\n",
            "Iteration 347, loss = 0.02604207\n",
            "Iteration 348, loss = 0.02587514\n",
            "Iteration 349, loss = 0.02560800\n",
            "Iteration 350, loss = 0.02527241\n",
            "Iteration 351, loss = 0.02526366\n",
            "Iteration 352, loss = 0.02541010\n",
            "Iteration 353, loss = 0.02510834\n",
            "Iteration 354, loss = 0.02505143\n",
            "Iteration 355, loss = 0.02487756\n",
            "Iteration 356, loss = 0.02479139\n",
            "Iteration 357, loss = 0.02432879\n",
            "Iteration 358, loss = 0.02593274\n",
            "Iteration 359, loss = 0.02677278\n",
            "Iteration 360, loss = 0.02627556\n",
            "Iteration 361, loss = 0.02538199\n",
            "Iteration 362, loss = 0.02527147\n",
            "Iteration 363, loss = 0.02405044\n",
            "Iteration 364, loss = 0.02425466\n",
            "Iteration 365, loss = 0.02539866\n",
            "Iteration 366, loss = 0.02418120\n",
            "Iteration 367, loss = 0.02513145\n",
            "Iteration 368, loss = 0.02373383\n",
            "Iteration 369, loss = 0.02406500\n",
            "Iteration 370, loss = 0.02384674\n",
            "Iteration 371, loss = 0.02366629\n",
            "Iteration 372, loss = 0.02515594\n",
            "Iteration 373, loss = 0.02406447\n",
            "Iteration 374, loss = 0.02345012\n",
            "Iteration 375, loss = 0.02324255\n",
            "Iteration 376, loss = 0.02308564\n",
            "Iteration 377, loss = 0.02335987\n",
            "Iteration 378, loss = 0.02320282\n",
            "Iteration 379, loss = 0.02304329\n",
            "Iteration 380, loss = 0.02263367\n",
            "Iteration 381, loss = 0.02341343\n",
            "Iteration 382, loss = 0.02343108\n",
            "Iteration 383, loss = 0.02171612\n",
            "Iteration 384, loss = 0.02349154\n",
            "Iteration 385, loss = 0.02304707\n",
            "Iteration 386, loss = 0.02326225\n",
            "Iteration 387, loss = 0.02245550\n",
            "Iteration 388, loss = 0.02226212\n",
            "Iteration 389, loss = 0.02202818\n",
            "Iteration 390, loss = 0.02220817\n",
            "Iteration 391, loss = 0.02149127\n",
            "Iteration 392, loss = 0.02118781\n",
            "Iteration 393, loss = 0.02233425\n",
            "Iteration 394, loss = 0.02291288\n",
            "Iteration 395, loss = 0.02175115\n",
            "Iteration 396, loss = 0.02110329\n",
            "Iteration 397, loss = 0.02124587\n",
            "Iteration 398, loss = 0.02172950\n",
            "Iteration 399, loss = 0.02344503\n",
            "Iteration 400, loss = 0.02103793\n",
            "Iteration 401, loss = 0.02119677\n",
            "Iteration 402, loss = 0.02149614\n",
            "Iteration 403, loss = 0.02010054\n",
            "Iteration 404, loss = 0.02273314\n",
            "Iteration 405, loss = 0.02058144\n",
            "Iteration 406, loss = 0.02244665\n",
            "Iteration 407, loss = 0.02004897\n",
            "Iteration 408, loss = 0.01979876\n",
            "Iteration 409, loss = 0.02062427\n",
            "Iteration 410, loss = 0.02197884\n",
            "Iteration 411, loss = 0.02003754\n",
            "Iteration 412, loss = 0.01995673\n",
            "Iteration 413, loss = 0.01997752\n",
            "Iteration 414, loss = 0.01951606\n",
            "Iteration 415, loss = 0.01973378\n",
            "Iteration 416, loss = 0.02002273\n",
            "Iteration 417, loss = 0.01956893\n",
            "Iteration 418, loss = 0.01980501\n",
            "Iteration 419, loss = 0.01978808\n",
            "Iteration 420, loss = 0.02027458\n",
            "Iteration 421, loss = 0.02115061\n",
            "Iteration 422, loss = 0.01933480\n",
            "Iteration 423, loss = 0.01993506\n",
            "Iteration 424, loss = 0.01957248\n",
            "Iteration 425, loss = 0.01895015\n",
            "Iteration 426, loss = 0.01945919\n",
            "Iteration 427, loss = 0.01850951\n",
            "Iteration 428, loss = 0.02025332\n",
            "Iteration 429, loss = 0.01841261\n",
            "Iteration 430, loss = 0.01949272\n",
            "Iteration 431, loss = 0.01893599\n",
            "Iteration 432, loss = 0.01828127\n",
            "Iteration 433, loss = 0.01856302\n",
            "Iteration 434, loss = 0.02018953\n",
            "Iteration 435, loss = 0.01853376\n",
            "Iteration 436, loss = 0.01791319\n",
            "Iteration 437, loss = 0.01801931\n",
            "Iteration 438, loss = 0.01981937\n",
            "Iteration 439, loss = 0.01905093\n",
            "Iteration 440, loss = 0.01765454\n",
            "Iteration 441, loss = 0.01774129\n",
            "Iteration 442, loss = 0.01947690\n",
            "Iteration 443, loss = 0.01787621\n",
            "Iteration 444, loss = 0.01713303\n",
            "Iteration 445, loss = 0.01853656\n",
            "Iteration 446, loss = 0.01949249\n",
            "Iteration 447, loss = 0.01722283\n",
            "Iteration 448, loss = 0.01709829\n",
            "Iteration 449, loss = 0.01777188\n",
            "Iteration 450, loss = 0.01789286\n",
            "Iteration 451, loss = 0.01772514\n",
            "Iteration 452, loss = 0.01824962\n",
            "Iteration 453, loss = 0.01798796\n",
            "Iteration 454, loss = 0.01699707\n",
            "Iteration 455, loss = 0.01713726\n",
            "Iteration 456, loss = 0.01658176\n",
            "Iteration 457, loss = 0.01702808\n",
            "Iteration 458, loss = 0.01611714\n",
            "Iteration 459, loss = 0.01651412\n",
            "Iteration 460, loss = 0.01697183\n",
            "Iteration 461, loss = 0.01730579\n",
            "Iteration 462, loss = 0.01726800\n",
            "Iteration 463, loss = 0.01598612\n",
            "Iteration 464, loss = 0.01611603\n",
            "Iteration 465, loss = 0.01655947\n",
            "Iteration 466, loss = 0.01640179\n",
            "Iteration 467, loss = 0.01654580\n",
            "Iteration 468, loss = 0.01668900\n",
            "Iteration 469, loss = 0.01616599\n",
            "Iteration 470, loss = 0.01573906\n",
            "Iteration 471, loss = 0.01584046\n",
            "Iteration 472, loss = 0.01607114\n",
            "Iteration 473, loss = 0.01535594\n",
            "Iteration 474, loss = 0.01610515\n",
            "Iteration 475, loss = 0.01612365\n",
            "Iteration 476, loss = 0.01581376\n",
            "Iteration 477, loss = 0.01543890\n",
            "Iteration 478, loss = 0.01531358\n",
            "Iteration 479, loss = 0.01521991\n",
            "Iteration 480, loss = 0.01531445\n",
            "Iteration 481, loss = 0.01514045\n",
            "Iteration 482, loss = 0.01582549\n",
            "Iteration 483, loss = 0.01495193\n",
            "Iteration 484, loss = 0.01665343\n",
            "Iteration 485, loss = 0.01476533\n",
            "Iteration 486, loss = 0.01588785\n",
            "Iteration 487, loss = 0.01574694\n",
            "Iteration 488, loss = 0.01629378\n",
            "Iteration 489, loss = 0.01622548\n",
            "Iteration 490, loss = 0.01543183\n",
            "Iteration 491, loss = 0.01510243\n",
            "Iteration 492, loss = 0.01533511\n",
            "Iteration 493, loss = 0.01457222\n",
            "Iteration 494, loss = 0.01634737\n",
            "Iteration 495, loss = 0.01363423\n",
            "Iteration 496, loss = 0.01490597\n",
            "Iteration 497, loss = 0.01416774\n",
            "Iteration 498, loss = 0.01436209\n",
            "Iteration 499, loss = 0.01418039\n",
            "Iteration 500, loss = 0.01417769\n"
          ],
          "name": "stdout"
        },
        {
          "output_type": "stream",
          "text": [
            "/usr/local/lib/python3.6/dist-packages/sklearn/neural_network/_multilayer_perceptron.py:571: ConvergenceWarning: Stochastic Optimizer: Maximum iterations (500) reached and the optimization hasn't converged yet.\n",
            "  % self.max_iter, ConvergenceWarning)\n"
          ],
          "name": "stderr"
        },
        {
          "output_type": "execute_result",
          "data": {
            "text/plain": [
              "MLPClassifier(activation='tanh', alpha=0.0001, batch_size='auto', beta_1=0.9,\n",
              "              beta_2=0.999, early_stopping=False, epsilon=1e-08,\n",
              "              hidden_layer_sizes=(8, 4), learning_rate='constant',\n",
              "              learning_rate_init=0.001, max_fun=15000, max_iter=500,\n",
              "              momentum=0.9, n_iter_no_change=10, nesterovs_momentum=True,\n",
              "              power_t=0.5, random_state=None, shuffle=True, solver='adam',\n",
              "              tol=1e-05, validation_fraction=0.1, verbose=True,\n",
              "              warm_start=False)"
            ]
          },
          "metadata": {
            "tags": []
          },
          "execution_count": 62
        }
      ]
    },
    {
      "cell_type": "markdown",
      "metadata": {
        "id": "_9tG2bDhju6N",
        "colab_type": "text"
      },
      "source": [
        "# **Matriz de Confusão e Relatório**"
      ]
    },
    {
      "cell_type": "code",
      "metadata": {
        "id": "-RyGUnwBdGNE",
        "colab_type": "code",
        "colab": {
          "base_uri": "https://localhost:8080/",
          "height": 204
        },
        "outputId": "e5faae58-9222-4368-d1c2-da8e488c1d76"
      },
      "source": [
        "from sklearn.metrics import confusion_matrix\n",
        "from sklearn.metrics import classification_report\n",
        "\n",
        "# para o treino\n",
        "classificacao = mlp.predict(x_treino)\n",
        "print(confusion_matrix(y_treino, classificacao))\n",
        "print(classification_report(y_treino, classificacao))\n",
        "\n",
        "#0.0 reprovado  \n",
        "#0.1 aprovado"
      ],
      "execution_count": 63,
      "outputs": [
        {
          "output_type": "stream",
          "text": [
            "[[2928    1]\n",
            " [   9  562]]\n",
            "              precision    recall  f1-score   support\n",
            "\n",
            "         0.0       1.00      1.00      1.00      2929\n",
            "         1.0       1.00      0.98      0.99       571\n",
            "\n",
            "    accuracy                           1.00      3500\n",
            "   macro avg       1.00      0.99      0.99      3500\n",
            "weighted avg       1.00      1.00      1.00      3500\n",
            "\n"
          ],
          "name": "stdout"
        }
      ]
    },
    {
      "cell_type": "code",
      "metadata": {
        "id": "OJt4tD60dGW3",
        "colab_type": "code",
        "colab": {
          "base_uri": "https://localhost:8080/",
          "height": 204
        },
        "outputId": "e8dff185-36c4-40f8-a8a7-94a3323ce9ce"
      },
      "source": [
        "# para o teste\n",
        "classificacao = mlp.predict(x_teste)\n",
        "print(confusion_matrix(y_teste, classificacao))\n",
        "print(classification_report(y_teste, classificacao))"
      ],
      "execution_count": 64,
      "outputs": [
        {
          "output_type": "stream",
          "text": [
            "[[1266    3]\n",
            " [   7  224]]\n",
            "              precision    recall  f1-score   support\n",
            "\n",
            "         0.0       0.99      1.00      1.00      1269\n",
            "         1.0       0.99      0.97      0.98       231\n",
            "\n",
            "    accuracy                           0.99      1500\n",
            "   macro avg       0.99      0.98      0.99      1500\n",
            "weighted avg       0.99      0.99      0.99      1500\n",
            "\n"
          ],
          "name": "stdout"
        }
      ]
    },
    {
      "cell_type": "code",
      "metadata": {
        "id": "8oEqiD8-dGgx",
        "colab_type": "code",
        "colab": {
          "base_uri": "https://localhost:8080/",
          "height": 204
        },
        "outputId": "d40a46a6-c528-4849-ed0a-171b4a5f250c"
      },
      "source": [
        "bol = y_teste!=classificacao\n",
        "y_teste[bol]"
      ],
      "execution_count": 65,
      "outputs": [
        {
          "output_type": "execute_result",
          "data": {
            "text/plain": [
              "3483    1.0\n",
              "1765    0.0\n",
              "334     1.0\n",
              "3715    1.0\n",
              "1349    1.0\n",
              "1637    1.0\n",
              "576     1.0\n",
              "4917    0.0\n",
              "2635    1.0\n",
              "1433    0.0\n",
              "Name: aprovados, dtype: float64"
            ]
          },
          "metadata": {
            "tags": []
          },
          "execution_count": 65
        }
      ]
    },
    {
      "cell_type": "code",
      "metadata": {
        "id": "iHvj7DlkyDef",
        "colab_type": "code",
        "colab": {
          "base_uri": "https://localhost:8080/",
          "height": 34
        },
        "outputId": "a48cd9c8-f05a-497f-d9e5-63a9f7426d97"
      },
      "source": [
        "classificacao[bol]"
      ],
      "execution_count": 67,
      "outputs": [
        {
          "output_type": "execute_result",
          "data": {
            "text/plain": [
              "array([0., 1., 0., 0., 0., 0., 0., 1., 0., 1.])"
            ]
          },
          "metadata": {
            "tags": []
          },
          "execution_count": 67
        }
      ]
    },
    {
      "cell_type": "markdown",
      "metadata": {
        "id": "GS9G2OiIj9bk",
        "colab_type": "text"
      },
      "source": [
        "# **Salva o modelo**"
      ]
    },
    {
      "cell_type": "code",
      "metadata": {
        "id": "HivfGye6fXss",
        "colab_type": "code",
        "colab": {
          "base_uri": "https://localhost:8080/",
          "height": 34
        },
        "outputId": "3c296c9e-1df9-4ffa-d9d4-60f28aadb127"
      },
      "source": [
        "from joblib import dump, load\n",
        "\n",
        "dump(mlp, 'mlp.joblib')"
      ],
      "execution_count": 66,
      "outputs": [
        {
          "output_type": "execute_result",
          "data": {
            "text/plain": [
              "['mlp.joblib']"
            ]
          },
          "metadata": {
            "tags": []
          },
          "execution_count": 66
        }
      ]
    },
    {
      "cell_type": "code",
      "metadata": {
        "id": "2iVDR66xfbrS",
        "colab_type": "code",
        "colab": {}
      },
      "source": [
        ""
      ],
      "execution_count": 66,
      "outputs": []
    }
  ]
}